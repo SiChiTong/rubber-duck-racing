{
 "cells": [
  {
   "cell_type": "code",
   "execution_count": null,
   "metadata": {},
   "outputs": [],
   "source": [
    "os.environ[\"DATASET_DIRECTORY\"] = \"../\""
   ]
  },
  {
   "cell_type": "code",
   "execution_count": 2,
   "metadata": {},
   "outputs": [
    {
     "name": "stdout",
     "output_type": "stream",
     "text": [
      "loading Roboflow workspace...\n",
      "loading Roboflow project...\n"
     ]
    },
    {
     "ename": "RuntimeError",
     "evalue": "{'error': {'message': 'Unsupported get request. Export with ID `rubber-duck-racing/yolov5-new-sign-detection/3/yolov5pytorch` does not exist or cannot be loaded due to missing permissions.', 'type': 'GraphMethodException', 'hint': 'You can find the API docs at https://docs.roboflow.com'}}",
     "output_type": "error",
     "traceback": [
      "\u001b[0;31m---------------------------------------------------------------------------\u001b[0m",
      "\u001b[0;31mRuntimeError\u001b[0m                              Traceback (most recent call last)",
      "\u001b[1;32m/home/jared/rubber-duck-racing/test.ipynb Cell 2'\u001b[0m in \u001b[0;36m<cell line: 4>\u001b[0;34m()\u001b[0m\n\u001b[1;32m      <a href='vscode-notebook-cell:/home/jared/rubber-duck-racing/test.ipynb#ch0000001?line=1'>2</a>\u001b[0m rf \u001b[39m=\u001b[39m Roboflow(api_key\u001b[39m=\u001b[39m\u001b[39m\"\u001b[39m\u001b[39mFKWcXV4muzCY5Z9TlVUY\u001b[39m\u001b[39m\"\u001b[39m)\n\u001b[1;32m      <a href='vscode-notebook-cell:/home/jared/rubber-duck-racing/test.ipynb#ch0000001?line=2'>3</a>\u001b[0m project \u001b[39m=\u001b[39m rf\u001b[39m.\u001b[39mworkspace(\u001b[39m\"\u001b[39m\u001b[39mrubber-duck-racing\u001b[39m\u001b[39m\"\u001b[39m)\u001b[39m.\u001b[39mproject(\u001b[39m\"\u001b[39m\u001b[39myolov5-new-sign-detection\u001b[39m\u001b[39m\"\u001b[39m)\n\u001b[0;32m----> <a href='vscode-notebook-cell:/home/jared/rubber-duck-racing/test.ipynb#ch0000001?line=3'>4</a>\u001b[0m dataset \u001b[39m=\u001b[39m project\u001b[39m.\u001b[39;49mversion(\u001b[39m3\u001b[39;49m)\u001b[39m.\u001b[39;49mdownload(\u001b[39m\"\u001b[39;49m\u001b[39myolov5\u001b[39;49m\u001b[39m\"\u001b[39;49m)\n",
      "File \u001b[0;32m~/.local/lib/python3.8/site-packages/roboflow/core/version.py:78\u001b[0m, in \u001b[0;36mVersion.download\u001b[0;34m(self, model_format, location)\u001b[0m\n\u001b[1;32m     76\u001b[0m         link \u001b[39m=\u001b[39m resp\u001b[39m.\u001b[39mjson()[\u001b[39m'\u001b[39m\u001b[39mexport\u001b[39m\u001b[39m'\u001b[39m][\u001b[39m'\u001b[39m\u001b[39mlink\u001b[39m\u001b[39m'\u001b[39m]\n\u001b[1;32m     77\u001b[0m     \u001b[39melse\u001b[39;00m:\n\u001b[0;32m---> 78\u001b[0m         \u001b[39mraise\u001b[39;00m \u001b[39mRuntimeError\u001b[39;00m(resp\u001b[39m.\u001b[39mjson())\n\u001b[1;32m     80\u001b[0m \u001b[39mdef\u001b[39;00m \u001b[39mbar_progress\u001b[39m(current, total, width\u001b[39m=\u001b[39m\u001b[39m80\u001b[39m):\n\u001b[1;32m     81\u001b[0m     progress_message \u001b[39m=\u001b[39m \u001b[39m\"\u001b[39m\u001b[39mDownloading Dataset Version Zip in \u001b[39m\u001b[39m\"\u001b[39m \u001b[39m+\u001b[39m location \u001b[39m+\u001b[39m \u001b[39m\"\u001b[39m\u001b[39m to \u001b[39m\u001b[39m\"\u001b[39m \u001b[39m+\u001b[39m model_format \u001b[39m+\u001b[39m \u001b[39m\"\u001b[39m\u001b[39m: \u001b[39m\u001b[39m%d\u001b[39;00m\u001b[39m%%\u001b[39;00m\u001b[39m [\u001b[39m\u001b[39m%d\u001b[39;00m\u001b[39m / \u001b[39m\u001b[39m%d\u001b[39;00m\u001b[39m] bytes\u001b[39m\u001b[39m\"\u001b[39m \u001b[39m%\u001b[39m (current \u001b[39m/\u001b[39m total \u001b[39m*\u001b[39m \u001b[39m100\u001b[39m, current, total)\n",
      "\u001b[0;31mRuntimeError\u001b[0m: {'error': {'message': 'Unsupported get request. Export with ID `rubber-duck-racing/yolov5-new-sign-detection/3/yolov5pytorch` does not exist or cannot be loaded due to missing permissions.', 'type': 'GraphMethodException', 'hint': 'You can find the API docs at https://docs.roboflow.com'}}"
     ]
    }
   ],
   "source": [
    "from roboflow import Roboflow\n",
    "rf = Roboflow(api_key=\"FKWcXV4muzCY5Z9TlVUY\")\n",
    "project = rf.workspace(\"rubber-duck-racing\").project(\"yolov5-new-sign-detection\")\n",
    "dataset = project.version(3).download(\"yolov5\")"
   ]
  }
 ],
 "metadata": {
  "kernelspec": {
   "display_name": "Python 3.8.10 64-bit",
   "language": "python",
   "name": "python3"
  },
  "language_info": {
   "codemirror_mode": {
    "name": "ipython",
    "version": 3
   },
   "file_extension": ".py",
   "mimetype": "text/x-python",
   "name": "python",
   "nbconvert_exporter": "python",
   "pygments_lexer": "ipython3",
   "version": "3.8.10"
  },
  "orig_nbformat": 4,
  "vscode": {
   "interpreter": {
    "hash": "916dbcbb3f70747c44a77c7bcd40155683ae19c65e1c03b4aa3499c5328201f1"
   }
  }
 },
 "nbformat": 4,
 "nbformat_minor": 2
}
